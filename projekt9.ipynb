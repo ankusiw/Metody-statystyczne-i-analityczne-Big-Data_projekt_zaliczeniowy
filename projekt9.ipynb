{
 "cells": [
  {
   "cell_type": "markdown",
   "id": "1486a5cf",
   "metadata": {},
   "source": [
    "\n",
    "Celem projektu jest analiza danych dotyczących udaru mózgu, znajdujących się w pliku `healthcare-dataset-stroke-data.csv`. Wyniki należy przedstawić w formie  raportu (RMarkdown, Jupyter, etc.) zawierającego kod programu jak i opisy dokonywanych decyzji. Analiza powinna zawierać co najmniej następujące punkty:\n",
    "\n",
    "1. Czyszczenie danych (usuwanie/inputacja braków danych, naprawa błędów, transformacje danych, rozwiązanie problemu wartości odstających)\n",
    "2. Eksploracyjna analiza danych\n",
    "3. Zamodelowanie zmiennej `stroke` na podstawie pozostałych zmiennych. Minimum 3 modele.\n",
    "4. Ewaluacja na zbiorze testowym (wybór modelu i metryk z uzasadnieniem)\n",
    "\n",
    "Możliwe jest rozwiązaniem w języku R lub Python. Rozwiązania wysłać do 24.01.2022 na adres mailowy: michalmaj116@gmail.com z tytułem \"studia podyplomowe\"\n"
   ]
  },
  {
   "cell_type": "markdown",
   "id": "3c2e0d3b",
   "metadata": {},
   "source": [
    "# 1. Importy"
   ]
  },
  {
   "cell_type": "code",
   "execution_count": 1,
   "id": "9498c61e",
   "metadata": {},
   "outputs": [],
   "source": [
    "import pandas as pd\n",
    "import numpy as np\n",
    "import matplotlib.pyplot as plt\n",
    "import seaborn as sns\n",
    "import sklearn\n",
    "\n",
    "from sklearn.preprocessing import OneHotEncoder\n",
    "from sklearn.preprocessing import StandardScaler\n",
    "from sklearn.preprocessing import MinMaxScaler\n",
    "\n",
    "from sklearn.model_selection import train_test_split\n",
    "from sklearn.linear_model import LogisticRegression\n",
    "from sklearn.metrics import f1_score, roc_curve, auc\n",
    "\n",
    "from imblearn.pipeline import Pipeline\n",
    "from sklearn.compose import ColumnTransformer\n",
    "from sklearn.model_selection import cross_val_score\n",
    "from sklearn.model_selection import RepeatedStratifiedKFold, GridSearchCV\n",
    "from sklearn.tree import DecisionTreeClassifier\n",
    "from sklearn.ensemble import RandomForestClassifier\n",
    "from sklearn.ensemble import GradientBoostingClassifier\n",
    "from sklearn.ensemble import BaggingClassifier\n",
    "from imblearn.over_sampling import SMOTE\n",
    "from sklearn.neighbors import KNeighborsClassifier\n",
    "from sklearn.metrics import accuracy_score, confusion_matrix, ConfusionMatrixDisplay"
   ]
  },
  {
   "cell_type": "markdown",
   "id": "70a5f190",
   "metadata": {},
   "source": [
    "# 2. Wczytanie danych"
   ]
  },
  {
   "cell_type": "code",
   "execution_count": 2,
   "id": "cdbc5e6b",
   "metadata": {},
   "outputs": [
    {
     "data": {
      "text/html": [
       "<div>\n",
       "<style scoped>\n",
       "    .dataframe tbody tr th:only-of-type {\n",
       "        vertical-align: middle;\n",
       "    }\n",
       "\n",
       "    .dataframe tbody tr th {\n",
       "        vertical-align: top;\n",
       "    }\n",
       "\n",
       "    .dataframe thead th {\n",
       "        text-align: right;\n",
       "    }\n",
       "</style>\n",
       "<table border=\"1\" class=\"dataframe\">\n",
       "  <thead>\n",
       "    <tr style=\"text-align: right;\">\n",
       "      <th></th>\n",
       "      <th>id</th>\n",
       "      <th>gender</th>\n",
       "      <th>age</th>\n",
       "      <th>hypertension</th>\n",
       "      <th>heart_disease</th>\n",
       "      <th>ever_married</th>\n",
       "      <th>work_type</th>\n",
       "      <th>Residence_type</th>\n",
       "      <th>avg_glucose_level</th>\n",
       "      <th>bmi</th>\n",
       "      <th>smoking_status</th>\n",
       "      <th>stroke</th>\n",
       "    </tr>\n",
       "  </thead>\n",
       "  <tbody>\n",
       "    <tr>\n",
       "      <th>0</th>\n",
       "      <td>9046</td>\n",
       "      <td>Male</td>\n",
       "      <td>67.0</td>\n",
       "      <td>0</td>\n",
       "      <td>1</td>\n",
       "      <td>Yes</td>\n",
       "      <td>Private</td>\n",
       "      <td>Urban</td>\n",
       "      <td>228.69</td>\n",
       "      <td>36.6</td>\n",
       "      <td>formerly smoked</td>\n",
       "      <td>1</td>\n",
       "    </tr>\n",
       "    <tr>\n",
       "      <th>1</th>\n",
       "      <td>51676</td>\n",
       "      <td>Female</td>\n",
       "      <td>61.0</td>\n",
       "      <td>0</td>\n",
       "      <td>0</td>\n",
       "      <td>Yes</td>\n",
       "      <td>Self-employed</td>\n",
       "      <td>Rural</td>\n",
       "      <td>202.21</td>\n",
       "      <td>NaN</td>\n",
       "      <td>never smoked</td>\n",
       "      <td>1</td>\n",
       "    </tr>\n",
       "    <tr>\n",
       "      <th>2</th>\n",
       "      <td>31112</td>\n",
       "      <td>Male</td>\n",
       "      <td>80.0</td>\n",
       "      <td>0</td>\n",
       "      <td>1</td>\n",
       "      <td>Yes</td>\n",
       "      <td>Private</td>\n",
       "      <td>Rural</td>\n",
       "      <td>105.92</td>\n",
       "      <td>32.5</td>\n",
       "      <td>never smoked</td>\n",
       "      <td>1</td>\n",
       "    </tr>\n",
       "    <tr>\n",
       "      <th>3</th>\n",
       "      <td>60182</td>\n",
       "      <td>Female</td>\n",
       "      <td>49.0</td>\n",
       "      <td>0</td>\n",
       "      <td>0</td>\n",
       "      <td>Yes</td>\n",
       "      <td>Private</td>\n",
       "      <td>Urban</td>\n",
       "      <td>171.23</td>\n",
       "      <td>34.4</td>\n",
       "      <td>smokes</td>\n",
       "      <td>1</td>\n",
       "    </tr>\n",
       "    <tr>\n",
       "      <th>4</th>\n",
       "      <td>1665</td>\n",
       "      <td>Female</td>\n",
       "      <td>79.0</td>\n",
       "      <td>1</td>\n",
       "      <td>0</td>\n",
       "      <td>Yes</td>\n",
       "      <td>Self-employed</td>\n",
       "      <td>Rural</td>\n",
       "      <td>174.12</td>\n",
       "      <td>24.0</td>\n",
       "      <td>never smoked</td>\n",
       "      <td>1</td>\n",
       "    </tr>\n",
       "  </tbody>\n",
       "</table>\n",
       "</div>"
      ],
      "text/plain": [
       "      id  gender   age  hypertension  heart_disease ever_married  \\\n",
       "0   9046    Male  67.0             0              1          Yes   \n",
       "1  51676  Female  61.0             0              0          Yes   \n",
       "2  31112    Male  80.0             0              1          Yes   \n",
       "3  60182  Female  49.0             0              0          Yes   \n",
       "4   1665  Female  79.0             1              0          Yes   \n",
       "\n",
       "       work_type Residence_type  avg_glucose_level   bmi   smoking_status  \\\n",
       "0        Private          Urban             228.69  36.6  formerly smoked   \n",
       "1  Self-employed          Rural             202.21   NaN     never smoked   \n",
       "2        Private          Rural             105.92  32.5     never smoked   \n",
       "3        Private          Urban             171.23  34.4           smokes   \n",
       "4  Self-employed          Rural             174.12  24.0     never smoked   \n",
       "\n",
       "   stroke  \n",
       "0       1  \n",
       "1       1  \n",
       "2       1  \n",
       "3       1  \n",
       "4       1  "
      ]
     },
     "execution_count": 2,
     "metadata": {},
     "output_type": "execute_result"
    }
   ],
   "source": [
    "data_stroke = pd.read_csv(\"healthcare-dataset-stroke-data.csv\", comment=\"#\", sep=',')\n",
    "data_stroke.head()"
   ]
  },
  {
   "cell_type": "code",
   "execution_count": 3,
   "id": "0912827d",
   "metadata": {},
   "outputs": [
    {
     "ename": "KeyError",
     "evalue": "\"['stroke'] not found in axis\"",
     "output_type": "error",
     "traceback": [
      "\u001b[1;31m---------------------------------------------------------------------------\u001b[0m",
      "\u001b[1;31mKeyError\u001b[0m                                  Traceback (most recent call last)",
      "Cell \u001b[1;32mIn[3], line 1\u001b[0m\n\u001b[1;32m----> 1\u001b[0m object_columns \u001b[38;5;241m=\u001b[39m \u001b[43mdata_stroke\u001b[49m\u001b[38;5;241;43m.\u001b[39;49m\u001b[43mselect_dtypes\u001b[49m\u001b[43m(\u001b[49m\u001b[43minclude\u001b[49m\u001b[38;5;241;43m=\u001b[39;49m\u001b[38;5;124;43m'\u001b[39;49m\u001b[38;5;124;43mobject\u001b[39;49m\u001b[38;5;124;43m'\u001b[39;49m\u001b[43m)\u001b[49m\u001b[38;5;241;43m.\u001b[39;49m\u001b[43mcolumns\u001b[49m\u001b[38;5;241;43m.\u001b[39;49m\u001b[43mdrop\u001b[49m\u001b[43m(\u001b[49m\u001b[38;5;124;43m'\u001b[39;49m\u001b[38;5;124;43mstroke\u001b[39;49m\u001b[38;5;124;43m'\u001b[39;49m\u001b[43m)\u001b[49m\n\u001b[0;32m      3\u001b[0m \u001b[38;5;28;01mfor\u001b[39;00m col \u001b[38;5;129;01min\u001b[39;00m object_columns:\n\u001b[0;32m      4\u001b[0m     fig, ax \u001b[38;5;241m=\u001b[39m plt\u001b[38;5;241m.\u001b[39msubplots(nrows\u001b[38;5;241m=\u001b[39m\u001b[38;5;241m1\u001b[39m, ncols\u001b[38;5;241m=\u001b[39m\u001b[38;5;241m2\u001b[39m, figsize\u001b[38;5;241m=\u001b[39m(\u001b[38;5;241m16\u001b[39m, \u001b[38;5;241m6\u001b[39m))\n",
      "File \u001b[1;32mC:\\ProgramData\\anaconda3\\envs\\ania\\lib\\site-packages\\pandas\\core\\indexes\\base.py:6699\u001b[0m, in \u001b[0;36mIndex.drop\u001b[1;34m(self, labels, errors)\u001b[0m\n\u001b[0;32m   6697\u001b[0m \u001b[38;5;28;01mif\u001b[39;00m mask\u001b[38;5;241m.\u001b[39many():\n\u001b[0;32m   6698\u001b[0m     \u001b[38;5;28;01mif\u001b[39;00m errors \u001b[38;5;241m!=\u001b[39m \u001b[38;5;124m\"\u001b[39m\u001b[38;5;124mignore\u001b[39m\u001b[38;5;124m\"\u001b[39m:\n\u001b[1;32m-> 6699\u001b[0m         \u001b[38;5;28;01mraise\u001b[39;00m \u001b[38;5;167;01mKeyError\u001b[39;00m(\u001b[38;5;124mf\u001b[39m\u001b[38;5;124m\"\u001b[39m\u001b[38;5;132;01m{\u001b[39;00m\u001b[38;5;28mlist\u001b[39m(labels[mask])\u001b[38;5;132;01m}\u001b[39;00m\u001b[38;5;124m not found in axis\u001b[39m\u001b[38;5;124m\"\u001b[39m)\n\u001b[0;32m   6700\u001b[0m     indexer \u001b[38;5;241m=\u001b[39m indexer[\u001b[38;5;241m~\u001b[39mmask]\n\u001b[0;32m   6701\u001b[0m \u001b[38;5;28;01mreturn\u001b[39;00m \u001b[38;5;28mself\u001b[39m\u001b[38;5;241m.\u001b[39mdelete(indexer)\n",
      "\u001b[1;31mKeyError\u001b[0m: \"['stroke'] not found in axis\""
     ]
    }
   ],
   "source": []
  },
  {
   "cell_type": "markdown",
   "id": "b16772cd",
   "metadata": {},
   "source": [
    "# 3. Zrozumienie danych\n",
    "##### Dane dotyczące udaru mózgu.\n",
    "**id** -numer pacjenta\n",
    "\n",
    "**gender** - płeć\n",
    "\n",
    "**age** - wiek w latach\n",
    "\n",
    "**hypertension** - nadciśnienie (0/1) \n",
    " \n",
    "**heart_disease** - choroba serca (0/1)\n",
    "\n",
    "**ever_married** - czy pacjent był zonaty/zamężny (yes/no)\n",
    "\n",
    "**Residence_type** - miejsce zamieszkania - urban - miejski, rural - wiejski\n",
    "\n",
    "**work_type** - typ pracy - 5 rodzajów - self-employed(samozatrudniony), Govt_job - praca rządowa\n",
    "\n",
    "**avg_glucose_level** -średni poziom glukozy, nie ma jednostek i skali??? (wg. \teAG (mg/dL) - może być do 300\n",
    "    Normal range: less than 114 mg/dL\n",
    "    Prediabetes range: greater than 114 mg/dL and less than 140 mg/dL\n",
    "    Diabetes range: greater than 140 mg/dL\n",
    "    \n",
    "**bmi** - bmi\n",
    "\n",
    "**smoking_status** -formerly smoked - wcześniej palący\n",
    "\n",
    "**stroke** - zmienna celu"
   ]
  },
  {
   "cell_type": "code",
   "execution_count": null,
   "id": "9071eaa3",
   "metadata": {},
   "outputs": [],
   "source": [
    "type(data_stroke)\n",
    "data_stroke.shape\n",
    "data_stroke.columns\n",
    "data_stroke.info()"
   ]
  },
  {
   "cell_type": "code",
   "execution_count": null,
   "id": "572563c4",
   "metadata": {},
   "outputs": [],
   "source": [
    "#INFORMACJE O DANYCH\n",
    "#rózne typy danych - trzeba pozmieniać\n",
    "#BMI - barkuje 201 kolumn - ?? - trzeba zrobić coś na NaNami\n",
    "#zmienić hypertension, heart_disease, do ever_maried, work_type, residence_type, smiking_status zobiektowych na kategoryczne\n"
   ]
  },
  {
   "cell_type": "code",
   "execution_count": null,
   "id": "b0cd4dee",
   "metadata": {},
   "outputs": [],
   "source": [
    "#pozmieniam zmienne objekt na category - jak to zrobić w jednej linijce???\n",
    "data_stroke.gender = data_stroke.gender.astype('category')\n",
    "data_stroke.hypertension = data_stroke.hypertension.astype('category')\n",
    "data_stroke.heart_disease = data_stroke.heart_disease.astype('category')\n",
    "data_stroke.ever_married = data_stroke.ever_married.astype('category')\n",
    "data_stroke.work_type = data_stroke.work_type.astype('category')\n",
    "data_stroke.Residence_type = data_stroke.Residence_type.astype('category')\n",
    "data_stroke.smoking_status = data_stroke.smoking_status.astype('category')\n",
    "data_stroke.stroke = data_stroke.stroke.astype('category')"
   ]
  },
  {
   "cell_type": "code",
   "execution_count": null,
   "id": "3b025682",
   "metadata": {},
   "outputs": [],
   "source": [
    "#usunięcie kolumny ID - nic nie wnosi\n",
    "data_stroke.drop('id', axis=1, inplace=True)"
   ]
  },
  {
   "cell_type": "code",
   "execution_count": null,
   "id": "ce419e9d",
   "metadata": {},
   "outputs": [],
   "source": [
    "#szukanie braków danych\n",
    "data_stroke_nan_index = data_stroke.index[data_stroke.isnull().any(axis=1)]\n",
    "data_stroke.iloc[data_stroke_nan_index]"
   ]
  },
  {
   "cell_type": "code",
   "execution_count": null,
   "id": "5e11d138",
   "metadata": {},
   "outputs": [],
   "source": [
    "#usuwanie/imputacja braków danych - wszystkich obserwacji 5110 (100%), więc 201 to będzie niecałe 4%, \n",
    "#zacznę od usunięcia i zobaczę co dalej będzie\n",
    "data_stroke.dropna(inplace=True)\n",
    "data_stroke.info()"
   ]
  },
  {
   "cell_type": "code",
   "execution_count": null,
   "id": "b8e57159",
   "metadata": {},
   "outputs": [],
   "source": [
    "#imputer = KNNImputer(n_neighbors=5)\n",
    "#data_stroke_imputed = imputer.fit_transform(data_stroke)\n",
    "\n",
    "#imp = SimpleImputer(strategy='mean')\n",
    "#data_stroke_imp = imp.fit_transform(data_stroke)"
   ]
  },
  {
   "cell_type": "code",
   "execution_count": null,
   "id": "3c59ffbb",
   "metadata": {},
   "outputs": [],
   "source": [
    "#poznaje kolejne kolumny nietypowe\n",
    "data_stroke.groupby('gender').count()\n",
    "#gender ma male, female ( w miarę równo rozłożone) i kolumne inne(1 odczyt)"
   ]
  },
  {
   "cell_type": "code",
   "execution_count": null,
   "id": "1e9a94bb",
   "metadata": {},
   "outputs": [],
   "source": [
    "data_stroke.drop(data_stroke[data_stroke['gender']=='Other'].index, inplace=True) ###tu usunąc tego other!!!\n",
    "data_stroke.groupby('gender').count()"
   ]
  },
  {
   "cell_type": "code",
   "execution_count": null,
   "id": "68b63324",
   "metadata": {},
   "outputs": [],
   "source": [
    "data_stroke.groupby('ever_married').count()\n",
    "#kolumny yes, no(trochę nierówno 1727:3353)"
   ]
  },
  {
   "cell_type": "code",
   "execution_count": null,
   "id": "abeeeb26",
   "metadata": {},
   "outputs": [],
   "source": [
    "data_stroke.groupby('work_type').count()\n",
    "#5 rodzajów - govt job - praca rządowa,"
   ]
  },
  {
   "cell_type": "code",
   "execution_count": null,
   "id": "c3ff388b",
   "metadata": {},
   "outputs": [],
   "source": [
    "data_stroke.groupby('Residence_type').count()\n",
    "#tylko miejskie i wiejskie(równo ułożone)"
   ]
  },
  {
   "cell_type": "code",
   "execution_count": null,
   "id": "1295c466",
   "metadata": {},
   "outputs": [],
   "source": [
    "data_stroke.groupby('smoking_status').count()\n",
    "#4 rodzaje - w tym jeden - unknown"
   ]
  },
  {
   "cell_type": "code",
   "execution_count": null,
   "id": "91a1e894",
   "metadata": {},
   "outputs": [],
   "source": [
    "data_stroke.groupby('stroke').count()\n",
    "#zmienna celu\n",
    "#tu mamy dwa rodzaje - duża nierówność prawie 5000:250"
   ]
  },
  {
   "cell_type": "code",
   "execution_count": null,
   "id": "10934fe2",
   "metadata": {},
   "outputs": [],
   "source": [
    "#Przy klasyfikacji jednym z najwazniejszych pytań podczas eksploracyjnej analizy danych \n",
    "#jest zbalansowanie zmiennej zaleznej a raczej jego brak. \n",
    "#W przypadku niezbalansowanych danych dużo trudniej jest zbudować dobrze działający klasyfikator.\n",
    "\n",
    "counts = data_stroke['stroke'].value_counts()\n",
    "percentages = counts / counts.sum() * 100\n",
    "\n",
    "plt.bar(percentages.index, percentages.values) # zmienić na yes/no poziomą wartość\n",
    "plt.title('Stroke Column')\n",
    "plt.xlabel('Stroke')\n",
    "plt.ylabel('Percentage')\n",
    "plt.show()\n",
    "#zmienna niezbilansowana "
   ]
  },
  {
   "cell_type": "code",
   "execution_count": null,
   "id": "e3f18396",
   "metadata": {},
   "outputs": [],
   "source": [
    "#badam zmienne numeryczne\n",
    "data_stroke.describe()"
   ]
  },
  {
   "cell_type": "markdown",
   "id": "99078c60",
   "metadata": {},
   "source": [
    "# 4. Outliery \n",
    "wiek i glukoza wyglądają znośnie, BMI ma dziwne wyniki\n",
    "\n",
    "poniżej 16 - wygłodzenie\n",
    "16 - 16.99 - wychudzenie\n",
    "17 - 18.49 - niedowagę\n",
    "18.5 - 24.99 - wagę prawidłową\n",
    "25.0 - 29.9 - nadwagę\n",
    "30.0 - 34.99 - I stopień otyłości\n",
    "35.0 - 39.99 - II stopień otyłości\n",
    "powyżej 40.0 - otyłość skrajną\n"
   ]
  },
  {
   "cell_type": "code",
   "execution_count": null,
   "id": "d858a9e2",
   "metadata": {},
   "outputs": [],
   "source": [
    "#Szukam outlierów metodą z_scores\n",
    "data_stroke_imputed = pd.DataFrame(data_stroke, columns=['age', 'avg_glucose_level', 'bmi'])\n",
    "\n",
    "means = np.mean(data_stroke_imputed, axis=0)\n",
    "sds = np.std(data_stroke_imputed, axis=0)\n",
    "z_scores = np.abs(data_stroke_imputed - means) / sds\n",
    "outliers = np.where(z_scores > 3)\n",
    "\n",
    "print(outliers)"
   ]
  },
  {
   "cell_type": "code",
   "execution_count": null,
   "id": "95b2be4e",
   "metadata": {},
   "outputs": [],
   "source": [
    "data_stroke_imputed.iloc[outliers[0][outliers[1] == 2]]\n",
    "data_stroke = data_stroke[data_stroke[\"bmi\"] <= 52] #powyżej 60 to chyba niemożliwe "
   ]
  },
  {
   "cell_type": "code",
   "execution_count": null,
   "id": "d52c58ed",
   "metadata": {},
   "outputs": [],
   "source": [
    "num_cols = ['age', 'avg_glucose_level', 'bmi']\n",
    "\n",
    "for col in num_cols:\n",
    "    fig, (ax1, ax2) = plt.subplots(ncols=2, figsize=(10, 5))\n",
    "    sns.histplot(data=data_stroke, x=col, hue='stroke', kde=True, ax=ax1)\n",
    "    sns.boxplot(data=data_stroke, x='stroke', y=col, ax=ax2)\n",
    "    fig.suptitle(f'{col} by stroke', fontsize=14)\n",
    "    plt.show()"
   ]
  },
  {
   "cell_type": "code",
   "execution_count": null,
   "id": "4aca9fae",
   "metadata": {},
   "outputs": [],
   "source": [
    "data_stroke"
   ]
  },
  {
   "cell_type": "code",
   "execution_count": null,
   "id": "70e44aa6",
   "metadata": {},
   "outputs": [],
   "source": [
    "object_columns = data_stroke.select_dtypes(include='object').columns.drop('stroke')\n",
    "\n",
    "for col in object_columns:\n",
    "    fig, ax = plt.subplots(nrows=1, ncols=2, figsize=(16, 6))\n",
    "    \n",
    "    adult.groupby(col)['stroke'].value_counts(normalize=False).unstack().plot(kind='bar', stacked=True, ax=ax[0])\n",
    "    ax[0].set_title(col + ' (Non-Normalized)')\n",
    "    ax[0].set_xlabel(col)\n",
    "    ax[0].set_ylabel('Count')\n",
    "\n",
    "    adult.groupby(col)['stroke'].value_counts(normalize=True).unstack().plot(kind='bar', stacked=True, ax=ax[1])\n",
    "    ax[1].set_title(col + ' (Normalized)')\n",
    "    ax[1].set_xlabel(col)\n",
    "    ax[1].set_ylabel('Procent')\n",
    "\n",
    "    plt.show()"
   ]
  },
  {
   "cell_type": "markdown",
   "id": "67b26de0",
   "metadata": {},
   "source": [
    "# 5. Korelacja"
   ]
  },
  {
   "cell_type": "code",
   "execution_count": null,
   "id": "cb098e80",
   "metadata": {},
   "outputs": [],
   "source": [
    "#Sprawdzam ewentualną korelację pomiędzy zmiennymi  numerycznymi\n",
    "plt.figure(figsize = (3,3))\n",
    "plt.title(\"Correlation between different features of the dataset\", fontsize = 18, fontweight = 'bold')\n",
    "sns.heatmap(data_stroke.corr(numeric_only = True), cmap = 'Greens_r', annot = True)\n",
    "plt.xticks(fontsize=12, rotation = 90)\n",
    "plt.yticks(fontsize=12, rotation = 90)\n",
    "plt.legend(fontsize=12)\n",
    "\n",
    "#korelacji nie ma\n",
    "#czy da się zbadać korelcję z kategorycznymi???"
   ]
  },
  {
   "cell_type": "markdown",
   "id": "c823528d",
   "metadata": {},
   "source": [
    "Nie widzę większej korelacji pomiędzy zmiennymi numerycznymi.\n"
   ]
  },
  {
   "cell_type": "markdown",
   "id": "4ea12833",
   "metadata": {},
   "source": [
    "# 6. Wykresy"
   ]
  },
  {
   "cell_type": "code",
   "execution_count": null,
   "id": "d388d7fb",
   "metadata": {},
   "outputs": [],
   "source": [
    "def generate_plots_and_tables_by_tagret(df: pd.DataFrame, target_column: str = \"DefFlag\",\n",
    "                                        numeric_cols: list = [], categorical_cols: list = []) -> None:\n",
    "    \"\"\"\n",
    "    Generate plots of the 'target_column' column with other columns in a pandas dataframe.\n",
    "    If a column is a string or factor, a bar plot with grouping by 'target_column' will be created.\n",
    "    If a column is continuous, a histogram, boxplot, and scatter plot with grouping by 'target_column' will be created.\n",
    "    \"\"\"\n",
    "    for column in categorical_cols:\n",
    "        print(column + \":\")\n",
    "        \n",
    "        plt.figure(figsize=(8, 6))\n",
    "            \n",
    "        counts = df.groupby([column, target_column], group_keys=True).size()\n",
    "        print(counts)\n",
    "        counts_norm = counts.groupby(level=0, group_keys=False).apply(lambda x: 100 * x / x.sum())\n",
    "        counts_norm = counts_norm.reset_index(name='percent')\n",
    "        sns.barplot(x=column, y='percent', hue=target_column, data=counts_norm)\n",
    "        plt.title(f\"'stroke' vs '{column}'\")\n",
    "        plt.show()\n",
    "            \n",
    "    for column in numeric_cols:\n",
    "        \n",
    "        plt.figure(figsize=(18, 6))\n",
    "            \n",
    "        plt.subplot(1, 2, 1)\n",
    "        sns.histplot(x=column, hue=target_column, data=df, kde=True)\n",
    "        plt.title(f\"'stroke' vs '{column}' (Histogram)\")\n",
    "            \n",
    "        plt.subplot(1, 2, 2)\n",
    "        sns.boxplot(x=target_column, y=column, data=df)\n",
    "        plt.title(f\"'stroke' vs '{column}' (Boxplot)\")\n",
    "            \n",
    "        plt.tight_layout()\n",
    "        plt.show()"
   ]
  },
  {
   "cell_type": "code",
   "execution_count": null,
   "id": "6f38e3b7",
   "metadata": {},
   "outputs": [],
   "source": [
    "num_cols = ['age', 'avg_glucose_level', 'bmi']\n",
    "cat_cols = ['gender', 'hypertension', 'heart_disease', 'ever_married', 'work_type', 'Residence_type', 'smoking_status']\n",
    "generate_plots_and_tables_by_tagret(data_stroke, 'stroke', num_cols, cat_cols)"
   ]
  },
  {
   "cell_type": "code",
   "execution_count": null,
   "id": "057bfb05",
   "metadata": {},
   "outputs": [],
   "source": [
    "object_columns = data_stroke.select_dtypes(include='object').columns.drop('stroke')\n",
    "\n",
    "for col in object_columns:\n",
    "    fig, ax = plt.subplots(nrows=1, ncols=2, figsize=(16, 6))\n",
    "    \n",
    "    adult.groupby(col)['stroke'].value_counts(normalize=False).unstack().plot(kind='bar', stacked=True, ax=ax[0])\n",
    "    ax[0].set_title(col + ' (Non-Normalized)')\n",
    "    ax[0].set_xlabel(col)\n",
    "    ax[0].set_ylabel('Count')\n",
    "\n",
    "    adult.groupby(col)['stroke'].value_counts(normalize=True).unstack().plot(kind='bar', stacked=True, ax=ax[1])\n",
    "    ax[1].set_title(col + ' (Normalized)')\n",
    "    ax[1].set_xlabel(col)\n",
    "    ax[1].set_ylabel('Procent')\n",
    "\n",
    "    plt.show()"
   ]
  },
  {
   "cell_type": "markdown",
   "id": "66a3a6d0",
   "metadata": {},
   "source": [
    "Widzę pewną zależność pomiędzy:\n",
    "\n",
    "-nadciśnieniem, a udarami\n",
    "\n",
    "-chorobami serca a udarami\n",
    "\n",
    "-wydaje mi się, że proporcja samozatrudnienia a udarów jest wyższa\n"
   ]
  },
  {
   "cell_type": "markdown",
   "id": "d51e3ee4",
   "metadata": {},
   "source": [
    "# 7. Tworzenie modeli\n"
   ]
  },
  {
   "cell_type": "code",
   "execution_count": null,
   "id": "1960872f",
   "metadata": {},
   "outputs": [],
   "source": [
    "X, y = data_stroke.drop(columns=['stroke'], axis=1), data_stroke['stroke']\n",
    "X_train, X_test, y_train, y_test = train_test_split(X, y, random_state=0)\n",
    "\n",
    "cat_ix = X.select_dtypes(include=['object', 'bool']).columns\n",
    "num_ix = X.select_dtypes(include=['int64', 'float64']).columns"
   ]
  },
  {
   "cell_type": "code",
   "execution_count": null,
   "id": "25ee7696",
   "metadata": {},
   "outputs": [],
   "source": [
    "names = ['CART', 'BAG', 'RF', 'KN', 'LR', 'GBM']\n",
    "models = [\n",
    "    DecisionTreeClassifier(),\n",
    "    BaggingClassifier(n_estimators=100),\n",
    "    RandomForestClassifier(n_estimators=100),\n",
    "    KNeighborsClassifier(n_neighbors=3),\n",
    "    LogisticRegression(),\n",
    "    GradientBoostingClassifier(n_estimators=100)\n",
    "]"
   ]
  },
  {
   "cell_type": "code",
   "execution_count": null,
   "id": "366ffeb4",
   "metadata": {},
   "outputs": [],
   "source": [
    "results = list()\n",
    "for i in range(len(names)):\n",
    "    transformation_steps = [\n",
    "        ('c', OneHotEncoder(handle_unknown='ignore'), cat_ix),\n",
    "        ('n', MinMaxScaler(), num_ix)\n",
    "    ]\n",
    "    ct = ColumnTransformer(transformation_steps)\n",
    "    pipeline = Pipeline(\n",
    "        steps=[\n",
    "            ('transform', ct),\n",
    "            ('smote', SMOTE()),\n",
    "            ('model', models[i])\n",
    "        ])\n",
    "    cv = RepeatedStratifiedKFold(n_splits=5, n_repeats=3, random_state=0)\n",
    "    scores = cross_val_score(pipeline, X_train, y_train, scoring='f1', cv=cv, n_jobs=-1)\n",
    "    results.append(scores)\n",
    "    print('>%s %.3f (%.3f)' % (names[i], np.mean(scores), np.std(scores)))\n",
    "plt.boxplot(results, labels=names, showmeans=True)\n",
    "plt.show()"
   ]
  },
  {
   "cell_type": "code",
   "execution_count": null,
   "id": "c621e9fe",
   "metadata": {},
   "outputs": [],
   "source": [
    "transformation_steps = [\n",
    "    ('c', OneHotEncoder(handle_unknown='ignore'), cat_ix),\n",
    "    ('n', MinMaxScaler(), num_ix)\n",
    "]\n",
    "ct = ColumnTransformer(transformation_steps)\n",
    "pipeline = Pipeline(\n",
    "    steps=[\n",
    "        ('transform', ct),\n",
    "        ('smote', SMOTE()),\n",
    "        ('model', GradientBoostingClassifier())\n",
    "    ])\n",
    "cv = RepeatedStratifiedKFold(n_splits=5, n_repeats=3, random_state=0)\n",
    "param_grid = {\n",
    "    \"model__n_estimators\": [20, 100] \n",
    "}\n",
    "grid_search = GridSearchCV(\n",
    "    estimator=pipeline, param_grid=param_grid, cv=cv, scoring=\"f1_macro\"\n",
    ")\n",
    "grid_search.fit(X_train, y_train)"
   ]
  },
  {
   "cell_type": "code",
   "execution_count": null,
   "id": "1267e5ae",
   "metadata": {},
   "outputs": [],
   "source": [
    "best_estimator = grid_search.best_estimator_\n",
    "\n",
    "y_pred = best_estimator.predict(X_test)\n",
    "\n",
    "from sklearn.metrics import classification_report, confusion_matrix, roc_auc_score\n",
    "\n",
    "print(classification_report(y_test, y_pred))\n",
    "print(confusion_matrix(y_test, y_pred))\n",
    "print('ROC AUC score:', roc_auc_score(y_test, y_pred))"
   ]
  },
  {
   "cell_type": "code",
   "execution_count": null,
   "id": "6c8984c6",
   "metadata": {},
   "outputs": [],
   "source": []
  },
  {
   "cell_type": "markdown",
   "id": "06186c96",
   "metadata": {},
   "source": []
  },
  {
   "cell_type": "code",
   "execution_count": null,
   "id": "4abc8421",
   "metadata": {},
   "outputs": [],
   "source": []
  }
 ],
 "metadata": {
  "kernelspec": {
   "display_name": "Python 3 (ipykernel)",
   "language": "python",
   "name": "python3"
  },
  "language_info": {
   "codemirror_mode": {
    "name": "ipython",
    "version": 3
   },
   "file_extension": ".py",
   "mimetype": "text/x-python",
   "name": "python",
   "nbconvert_exporter": "python",
   "pygments_lexer": "ipython3",
   "version": "3.10.13"
  }
 },
 "nbformat": 4,
 "nbformat_minor": 5
}
